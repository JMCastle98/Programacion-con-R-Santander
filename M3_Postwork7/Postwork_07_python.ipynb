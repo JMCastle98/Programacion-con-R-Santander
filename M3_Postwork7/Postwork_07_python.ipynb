{
  "nbformat": 4,
  "nbformat_minor": 0,
  "metadata": {
    "colab": {
      "name": "Postwork_07_python.ipynb",
      "provenance": [],
      "collapsed_sections": [],
      "authorship_tag": "ABX9TyPhO2fSRsqr3l4mYeGHwzkE",
      "include_colab_link": true
    },
    "kernelspec": {
      "name": "python3",
      "display_name": "Python 3"
    }
  },
  "cells": [
    {
      "cell_type": "markdown",
      "metadata": {
        "id": "view-in-github",
        "colab_type": "text"
      },
      "source": [
        "<a href=\"https://colab.research.google.com/github/JMCastle98/Programacion-con-R-Santander/blob/master/M3_Postwork7/Postwork_07_python.ipynb\" target=\"_parent\"><img src=\"https://colab.research.google.com/assets/colab-badge.svg\" alt=\"Open In Colab\"/></a>"
      ]
    },
    {
      "cell_type": "markdown",
      "metadata": {
        "id": "ZGYvJFPc2shK"
      },
      "source": [
        "# Postwork 07: Transformación, filtración y ordenamiento de datos \r\n",
        "Antes de comenzar en caso de no tener nuestro confiable archivo csv a la mano, o bien debido a que la API está en constante actualización podemos recurrir a una versión mejorada de la función para peticiones de los **enfrentamientos**:"
      ]
    },
    {
      "cell_type": "code",
      "metadata": {
        "id": "PgYwH7dw2lWc"
      },
      "source": [
        "import requests #Importamos los paquete necesarios\r\n",
        "import pandas as pd \r\n",
        "import math as mt\r\n",
        " \r\n",
        "def PandaScore_get_matches(juego): #Definimos nuestra función\r\n",
        "    if isinstance(juego, str): #Nos aseguramos que los argumentos sean de tipo str\r\n",
        "        informacion = 'matches'\r\n",
        "        registros = 100 #Establecemos el número de registros por página\r\n",
        "        token = 'V3U1fnnWozJi3bbhZfrxdiAmN4-XWnX_4g6i_6iauwwh7w-V8Ns' #Token de acceso\r\n",
        "        url = f\"https://api.pandascore.co/{juego}/{informacion}?page[size]={registros}&token={token}\" #URL con los parámetros deseados\r\n",
        "        response = requests.get(url) #Realizamos la petición\r\n",
        "        if response.status_code == 200: #Si todo salió bien continuamos\r\n",
        "            Iteraciones = mt.ceil(float(response.headers['X-Total'])/registros) #Calculamos el número de páginas en base a todos los registros que hay en la API\r\n",
        "            #Al dividir el número total de registros entre los registros solicitados obtenemos un aproximado, para asegurar que tomaremos todos, redondeamos al entero más alto\r\n",
        "            for i in range(1,Iteraciones+1): #Ciclo for para obtener todos los registros de cada página\r\n",
        "                url = f\"https://api.pandascore.co/{juego}/{informacion}?page[size]={registros}&page[number]={i}&token=V3U1fnnWozJi3bbhZfrxdiAmN4-XWnX_4g6i_6iauwwh7w-V8Ns\"\r\n",
        "                #URL el parámetro de página deseada\r\n",
        "                response = requests.get(url) #Realizamos la petición correspondiente\r\n",
        "                data = response.json() #Transformamos la respuesta \r\n",
        "                if i == 1: #En la primer iteración se crea un Dataframe\r\n",
        "                    df_matches = pd.DataFrame.from_dict(data)\r\n",
        "                else: #En el resto de iteraciones se van añadiendo los nuevos registros\r\n",
        "                    df_matches = df_matches.append(pd.DataFrame.from_dict(data),ignore_index=True) \r\n",
        "            \r\n",
        "            ########### Limpieza de datos\r\n",
        "            campos_no_deseados = ['videogame', 'slug', 'tournament', 'league', 'serie', 'streams', 'modified_at', 'games',\r\n",
        "                      'game_advantage', 'scheduled_at', 'original_scheduled_at', 'detailed_stats','live',\r\n",
        "                      'match_type', 'videogame_version', 'live_embed_url', 'id'] \r\n",
        "\r\n",
        "            df_matches_temp = df_matches.drop(columns=campos_no_deseados) #Limpiamos campos que no nos son de utilidad\r\n",
        "            df_matches_finished = df_matches_temp[ df_matches_temp['status'] == 'finished' ] #Dejamos solo los enfrentamientos que han terminado\r\n",
        "            df_matches_finished_clean = df_matches_finished.dropna(subset=['begin_at', 'end_at']) #Eliminamos algunos valores nulos de las fechas\r\n",
        "            df_matches_ordenado = df_matches_finished_clean[['name','opponents','results','forfeit','draw', #Reorganizamos los campos\r\n",
        "                                                      'number_of_games','winner','winner_id','begin_at','end_at', \r\n",
        "                                                      'rescheduled','official_stream_url','league_id', 'serie_id', 'tournament_id']]\r\n",
        "            df_matches_ordenado = df_matches_ordenado.reset_index(drop=True) #Reseteamos el índice\r\n",
        "            nombres_nuevos = {'name' : 'match_name',\r\n",
        "                             'begin_at' : 'begin_date',\r\n",
        "                             'end_at' : 'end_date',\r\n",
        "                             'official_stream_url' : 'official_stream_channel_url'}                       \r\n",
        "            df_matches_ordenado.rename(columns=nombres_nuevos, inplace=True) #Renombramos columnas                                      \r\n",
        "            return df_matches_ordenado # Finalmente se devuelve el Dataframe con todos los registros limpios y ordenados\r\n",
        "        else: #Si la petición no se ejecutó correctamente mandamos un mensaje con el error devuelto\r\n",
        "            return 'Error de petición: '+str(response.status_code)  \r\n",
        "    else: #Si los argumentos no son de tipo str regresamos un mensaje\r\n",
        "        return 'Por favor coloque un argumento válido en formato string.'"
      ],
      "execution_count": 3,
      "outputs": []
    },
    {
      "cell_type": "markdown",
      "metadata": {
        "id": "M0dgXxRw8wfM"
      },
      "source": [
        "Le indicamos que deseamos los enfrentamientos del juego League of Legends:\r\n"
      ]
    },
    {
      "cell_type": "code",
      "metadata": {
        "id": "yDM5OFnB6jK4"
      },
      "source": [
        "lol_matches = PandaScore_get_matches('lol')"
      ],
      "execution_count": 4,
      "outputs": []
    },
    {
      "cell_type": "code",
      "metadata": {
        "colab": {
          "base_uri": "https://localhost:8080/",
          "height": 660
        },
        "id": "u9MlM9yT6oFS",
        "outputId": "7d6fa865-d4d5-43e6-94e0-d85342596303"
      },
      "source": [
        "lol_matches.head()"
      ],
      "execution_count": 10,
      "outputs": [
        {
          "output_type": "execute_result",
          "data": {
            "text/html": [
              "<div>\n",
              "<style scoped>\n",
              "    .dataframe tbody tr th:only-of-type {\n",
              "        vertical-align: middle;\n",
              "    }\n",
              "\n",
              "    .dataframe tbody tr th {\n",
              "        vertical-align: top;\n",
              "    }\n",
              "\n",
              "    .dataframe thead th {\n",
              "        text-align: right;\n",
              "    }\n",
              "</style>\n",
              "<table border=\"1\" class=\"dataframe\">\n",
              "  <thead>\n",
              "    <tr style=\"text-align: right;\">\n",
              "      <th></th>\n",
              "      <th>match_name</th>\n",
              "      <th>opponents</th>\n",
              "      <th>results</th>\n",
              "      <th>forfeit</th>\n",
              "      <th>draw</th>\n",
              "      <th>number_of_games</th>\n",
              "      <th>winner</th>\n",
              "      <th>winner_id</th>\n",
              "      <th>begin_date</th>\n",
              "      <th>end_date</th>\n",
              "      <th>rescheduled</th>\n",
              "      <th>official_stream_channel_url</th>\n",
              "      <th>league_id</th>\n",
              "      <th>serie_id</th>\n",
              "      <th>tournament_id</th>\n",
              "    </tr>\n",
              "  </thead>\n",
              "  <tbody>\n",
              "    <tr>\n",
              "      <th>0</th>\n",
              "      <td>ALF vs BJD</td>\n",
              "      <td>[{'opponent': {'acronym': 'ALF', 'id': 124408,...</td>\n",
              "      <td>[{'score': 0, 'team_id': 124408}, {'score': 1,...</td>\n",
              "      <td>False</td>\n",
              "      <td>False</td>\n",
              "      <td>1</td>\n",
              "      <td>{'acronym': 'BJD', 'id': 126861, 'image_url': ...</td>\n",
              "      <td>126861.0</td>\n",
              "      <td>2021-03-06T09:54:42Z</td>\n",
              "      <td>2021-03-06T10:28:54Z</td>\n",
              "      <td>False</td>\n",
              "      <td>https://www.twitch.tv/lolpacific</td>\n",
              "      <td>4288</td>\n",
              "      <td>3337</td>\n",
              "      <td>5483</td>\n",
              "    </tr>\n",
              "    <tr>\n",
              "      <th>1</th>\n",
              "      <td>Lower Bracket Round 2 Match 1: CGG vs GGE</td>\n",
              "      <td>[{'opponent': {'acronym': 'CGG', 'id': 127494,...</td>\n",
              "      <td>[{'score': 1, 'team_id': 127494}, {'score': 3,...</td>\n",
              "      <td>False</td>\n",
              "      <td>False</td>\n",
              "      <td>5</td>\n",
              "      <td>{'acronym': 'GGE', 'id': 128405, 'image_url': ...</td>\n",
              "      <td>128405.0</td>\n",
              "      <td>2021-03-08T18:07:48Z</td>\n",
              "      <td>2021-03-08T21:37:26Z</td>\n",
              "      <td>False</td>\n",
              "      <td>https://www.twitch.tv/pg_esports</td>\n",
              "      <td>4405</td>\n",
              "      <td>3291</td>\n",
              "      <td>5579</td>\n",
              "    </tr>\n",
              "    <tr>\n",
              "      <th>2</th>\n",
              "      <td>Round 1 match 1: KVM vs ION</td>\n",
              "      <td>[{'opponent': {'acronym': 'KVM', 'id': 127475,...</td>\n",
              "      <td>[{'score': 3, 'team_id': 127475}, {'score': 0,...</td>\n",
              "      <td>False</td>\n",
              "      <td>False</td>\n",
              "      <td>5</td>\n",
              "      <td>{'acronym': 'KVM', 'id': 127475, 'image_url': ...</td>\n",
              "      <td>127475.0</td>\n",
              "      <td>2021-03-08T18:04:03Z</td>\n",
              "      <td>2021-03-08T20:46:01Z</td>\n",
              "      <td>False</td>\n",
              "      <td>https://www.twitch.tv/esportsprimelol</td>\n",
              "      <td>4401</td>\n",
              "      <td>3248</td>\n",
              "      <td>5609</td>\n",
              "    </tr>\n",
              "    <tr>\n",
              "      <th>3</th>\n",
              "      <td>Winners bracket round 1 match 2: ESB vs SIN</td>\n",
              "      <td>[{'opponent': {'acronym': 'ESB', 'id': 3344, '...</td>\n",
              "      <td>[{'score': 2, 'team_id': 3344}, {'score': 3, '...</td>\n",
              "      <td>False</td>\n",
              "      <td>False</td>\n",
              "      <td>5</td>\n",
              "      <td>{'acronym': 'SIN', 'id': 127586, 'image_url': ...</td>\n",
              "      <td>127586.0</td>\n",
              "      <td>2021-03-07T17:53:43Z</td>\n",
              "      <td>2021-03-07T22:22:51Z</td>\n",
              "      <td>False</td>\n",
              "      <td>https://www.twitch.tv/hitpointcz</td>\n",
              "      <td>4433</td>\n",
              "      <td>3314</td>\n",
              "      <td>5602</td>\n",
              "    </tr>\n",
              "    <tr>\n",
              "      <th>4</th>\n",
              "      <td>Winners bracket round 1 match 1: IG vs VIK</td>\n",
              "      <td>[{'opponent': {'acronym': 'IG', 'id': 127585, ...</td>\n",
              "      <td>[{'score': 3, 'team_id': 127585}, {'score': 1,...</td>\n",
              "      <td>False</td>\n",
              "      <td>False</td>\n",
              "      <td>5</td>\n",
              "      <td>{'acronym': 'IG', 'id': 127585, 'image_url': '...</td>\n",
              "      <td>127585.0</td>\n",
              "      <td>2021-03-07T13:30:41Z</td>\n",
              "      <td>2021-03-07T17:08:57Z</td>\n",
              "      <td>False</td>\n",
              "      <td>https://www.twitch.tv/hitpointcz</td>\n",
              "      <td>4433</td>\n",
              "      <td>3314</td>\n",
              "      <td>5602</td>\n",
              "    </tr>\n",
              "  </tbody>\n",
              "</table>\n",
              "</div>"
            ],
            "text/plain": [
              "                                    match_name  ... tournament_id\n",
              "0                                   ALF vs BJD  ...          5483\n",
              "1    Lower Bracket Round 2 Match 1: CGG vs GGE  ...          5579\n",
              "2                  Round 1 match 1: KVM vs ION  ...          5609\n",
              "3  Winners bracket round 1 match 2: ESB vs SIN  ...          5602\n",
              "4   Winners bracket round 1 match 1: IG vs VIK  ...          5602\n",
              "\n",
              "[5 rows x 15 columns]"
            ]
          },
          "metadata": {
            "tags": []
          },
          "execution_count": 10
        }
      ]
    },
    {
      "cell_type": "markdown",
      "metadata": {
        "id": "HkJQHNA_9EWD"
      },
      "source": [
        "Antes de comenzar a tratar los datos, nos gustaría modificar un poco la información que mostramos aprovechando 3 campos que dejamos en forma de lista:\r\n",
        "\r\n",
        "*   _oponents_\r\n",
        "*   _results_\r\n",
        "*   _winner_\r\n",
        "\r\n",
        "\r\n"
      ]
    }
  ]
}